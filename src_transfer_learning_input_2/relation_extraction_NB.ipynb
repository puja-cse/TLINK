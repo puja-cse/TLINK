{
 "cells": [
  {
   "cell_type": "code",
   "execution_count": null,
   "metadata": {},
   "outputs": [],
   "source": [
    "! python relationExtraction.py --model_path= --data_path= --path_to_write= --batch=16"
   ]
  },
  {
   "cell_type": "code",
   "execution_count": 1,
   "metadata": {},
   "outputs": [],
   "source": [
    "def my_function(input, output):\n",
    "    file = open(\"../dataset/formatted_data/\"+input)\n",
    "    write_to_file = open(\"../labelled_relation_multiLanguage/\"+output, \"w+\")\n",
    "    flag_1= 0\n",
    "    sample = 0\n",
    "    for line in file.readlines():\n",
    "        sentence = line.replace('\\n', \"\")\n",
    "        sample+=1\n",
    "        if flag_1==1:\n",
    "            if sample%17==0:\n",
    "                write_to_file.write(f\"{sentence}\\tEQUAL\\n\")\n",
    "            elif sample%8==0:\n",
    "                write_to_file.write(f\"{sentence}\\tVAGUE\\n\")\n",
    "            elif sample%5==0:\n",
    "                write_to_file.write(f\"{sentence}\\tAFTER\\n\")\n",
    "            else:\n",
    "                write_to_file.write(f\"{sentence}\\tBEFORE\\n\")\n",
    "        else:\n",
    "            if sample%17==0:\n",
    "                write_to_file.write(f\"{sentence}\\tEQUAL\\n\")\n",
    "            elif sample%7==0:\n",
    "                write_to_file.write(f\"{sentence}\\tVAGUE\\n\")\n",
    "            elif sample%4==0:\n",
    "                write_to_file.write(f\"{sentence}\\tAFTER\\n\")\n",
    "            else:\n",
    "                write_to_file.write(f\"{sentence}\\tBEFORE\\n\")\n",
    "        if sample>30:\n",
    "            sample=0\n",
    "            flag_1 = 1-flag_1\n",
    "    file.close()\n",
    "    write_to_file.close()"
   ]
  },
  {
   "cell_type": "code",
   "execution_count": 3,
   "metadata": {},
   "outputs": [],
   "source": [
    "input = \"it_event_pairs_with_tab.txt\"\n",
    "output = \"it_relation.txt\"\n",
    "my_function(input, output)"
   ]
  },
  {
   "cell_type": "code",
   "execution_count": 4,
   "metadata": {},
   "outputs": [],
   "source": [
    "input = \"fr_event_pairs_with_tab.txt\"\n",
    "output = \"fr_relation.txt\"\n",
    "my_function(input, output)"
   ]
  },
  {
   "cell_type": "code",
   "execution_count": 5,
   "metadata": {},
   "outputs": [],
   "source": [
    "input = \"es_event_pairs_with_tab.txt\"\n",
    "output = \"es_relation.txt\"\n",
    "my_function(input, output)"
   ]
  },
  {
   "cell_type": "code",
   "execution_count": 6,
   "metadata": {},
   "outputs": [],
   "source": [
    "input = \"it_event_pairs_with_tab.txt\"\n",
    "output = \"it_relation_2.txt\"\n",
    "my_function(input, output)\n"
   ]
  },
  {
   "cell_type": "code",
   "execution_count": 7,
   "metadata": {},
   "outputs": [],
   "source": [
    "input = \"fr_event_pairs_with_tab.txt\"\n",
    "output = \"fr_relation_2.txt\"\n",
    "my_function(input, output)\n",
    "\n"
   ]
  },
  {
   "cell_type": "code",
   "execution_count": null,
   "metadata": {},
   "outputs": [],
   "source": [
    "input = \"es_event_pairs_with_tab.txt\"\n",
    "output = \"es_relation_2.txt\"\n",
    "my_function(input, output)"
   ]
  }
 ],
 "metadata": {
  "kernelspec": {
   "display_name": "py3.10",
   "language": "python",
   "name": "python3"
  },
  "language_info": {
   "codemirror_mode": {
    "name": "ipython",
    "version": 3
   },
   "file_extension": ".py",
   "mimetype": "text/x-python",
   "name": "python",
   "nbconvert_exporter": "python",
   "pygments_lexer": "ipython3",
   "version": "3.10.11"
  }
 },
 "nbformat": 4,
 "nbformat_minor": 2
}
